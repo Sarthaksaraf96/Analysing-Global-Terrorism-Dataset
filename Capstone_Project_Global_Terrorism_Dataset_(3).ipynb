{
  "nbformat": 4,
  "nbformat_minor": 0,
  "metadata": {
    "colab": {
      "private_outputs": true,
      "provenance": [],
      "collapsed_sections": [
        "gIfDvo9L0UH2"
      ],
      "include_colab_link": true
    },
    "kernelspec": {
      "name": "python3",
      "display_name": "Python 3"
    },
    "language_info": {
      "name": "python"
    }
  },
  "cells": [
    {
      "cell_type": "markdown",
      "metadata": {
        "id": "view-in-github",
        "colab_type": "text"
      },
      "source": [
        "<a href=\"https://colab.research.google.com/github/Sarthaksaraf96/Analysing-Global-Terrorism-Dataset/blob/main/Capstone_Project_Global_Terrorism_Dataset_(3).ipynb\" target=\"_parent\"><img src=\"https://colab.research.google.com/assets/colab-badge.svg\" alt=\"Open In Colab\"/></a>"
      ]
    },
    {
      "cell_type": "markdown",
      "source": [
        "# **Project Name**    - Global Terrorism Dataset\n",
        "\n",
        "\n",
        "\n"
      ],
      "metadata": {
        "id": "vncDsAP0Gaoa"
      }
    },
    {
      "cell_type": "markdown",
      "source": [
        "\n",
        "##### **Project Type**    - EDA\n",
        "##### **Contribution**    - Sarthak Saraf\n"
      ],
      "metadata": {
        "id": "beRrZCGUAJYm"
      }
    },
    {
      "cell_type": "markdown",
      "source": [
        "# **Project Summary -**"
      ],
      "metadata": {
        "id": "FJNUwmbgGyua"
      }
    },
    {
      "cell_type": "markdown",
      "source": [
        "* **Project Summary: Analyzing Global Terrorism Incidents**\n",
        "  - The project embarked on a comprehensive analysis of global terrorism incidents sourced from a robust dataset encompassing various dimensions of terrorist activities worldwide. This exploration aimed to uncover underlying patterns, trends, and crucial indicators that shed light on the nature and impact of terrorism across different regions and timeframes.\n",
        "\n",
        "* **Scope and Objective:**\n",
        "  - The primary objective was to conduct an in-depth examination of historical terrorist incidents, leveraging data-driven analysis to glean actionable insights. The dataset contained a wealth of information ranging from temporal details such as incident dates, locations, and attack types to specifics about casualties, targets, and perpetrating groups.\n",
        "\n",
        "* **Methodology:**\n",
        "  - The analysis journey commenced with meticulous data cleaning and preprocessing to ensure data integrity. Leveraging descriptive and exploratory analysis techniques, the project delved into temporal trends, identifying peak and low activity years, and elucidating monthly and daily attack frequencies. Geospatial analysis revealed hotspots of terrorism, showcasing regions and countries most affected by these incidents.\n",
        "\n",
        "* **Key Findings:** The analysis revealed intriguing insights into the varied nature of terrorism:\n",
        "\n",
        "  - Temporal Insights: Highlighted years with the highest and lowest incidents, revealing shifting patterns over time.\n",
        "  - Geographical Distribution: Uncovered regions and countries significantly impacted by terrorist activities, aiding in risk assessment and prioritizing security measures.\n",
        "  - Attack Types and Impact: Explored the relationship between attack methodologies and resulting casualties or property damage, indicating the severity and nature of different attack types.\n",
        "  - Perpetrators and Targets: Identified the most active terrorist groups and their preferred targets, providing a comprehensive understanding of their motives and strategies.\n",
        "* **Implications and Recommendations:** The project's outcomes hold substantial implications for various stakeholders:\n",
        "\n",
        "  - Policy and Security: Insights enable policymakers and security agencies to formulate targeted strategies, focusing resources on high-risk areas and enhancing preemptive measures.\n",
        "  - Business and Operational Resilience: Businesses can employ these findings to fortify supply chains, devise crisis response plans, and make informed decisions regarding expansions or resource allocation.\n",
        "  - Community Engagement: Collaboration with affected communities or regions becomes more targeted and effective, supporting social responsibility initiatives and peace-building efforts.\n",
        "\n",
        "* **Conclusion:**\n",
        "  - The analysis of global terrorism incidents offers a nuanced understanding of the multifaceted landscape of terrorist activities. The insights derived from this comprehensive analysis empower stakeholders across diverse sectors to make informed decisions, fortify security measures, and contribute towards fostering safer, resilient communities in the face of this critical global challenge."
      ],
      "metadata": {
        "id": "F6v_1wHtG2nS"
      }
    },
    {
      "cell_type": "markdown",
      "source": [
        "# **GitHub Link -**"
      ],
      "metadata": {
        "id": "w6K7xa23Elo4"
      }
    },
    {
      "cell_type": "markdown",
      "source": [
        "GutHub Link : https://github.com/Sarthaksaraf96/Capstone-Project-EDA-of-Global-Terrorism/tree/main"
      ],
      "metadata": {
        "id": "h1o69JH3Eqqn"
      }
    },
    {
      "cell_type": "markdown",
      "source": [
        "# **Problem Statement**\n"
      ],
      "metadata": {
        "id": "yQaldy8SH6Dl"
      }
    },
    {
      "cell_type": "markdown",
      "source": [
        "**Despite having historical data on global terrorism incidents, there is a challenge in effectively utilizing this data to proactively mitigate risks, optimize operations, and ensure the safety and security of business assets and stakeholders against terrorist threats**"
      ],
      "metadata": {
        "id": "DpeJGUA3kjGy"
      }
    },
    {
      "cell_type": "markdown",
      "source": [
        "#### **Define Your Business Objective?**"
      ],
      "metadata": {
        "id": "PH-0ReGfmX4f"
      }
    },
    {
      "cell_type": "markdown",
      "source": [
        "* **Security Enhancement:**Enhance security measures to minimize the impact of terrorist incidents on business operations.\n",
        "\n",
        "* **Risk-Informed Decision-Making:** Make informed decisions considering terrorism-related risks.\n",
        "\n",
        "* **Community Engagement and CSR:** Foster community engagement and support social responsibility initiatives in regions affected by terrorism.\n",
        "\n",
        "* **Brand Protection and Crisis Management:** Safeguard brand reputation during crises and ensure swift crisis management."
      ],
      "metadata": {
        "id": "PhDvGCAqmjP1"
      }
    },
    {
      "cell_type": "markdown",
      "source": [
        "# ***Let's Begin !***"
      ],
      "metadata": {
        "id": "O_i_v8NEhb9l"
      }
    },
    {
      "cell_type": "markdown",
      "source": [
        "## ***1. Know Your Data***"
      ],
      "metadata": {
        "id": "HhfV-JJviCcP"
      }
    },
    {
      "cell_type": "markdown",
      "source": [
        "### Import Libraries"
      ],
      "metadata": {
        "id": "Y3lxredqlCYt"
      }
    },
    {
      "cell_type": "code",
      "source": [
        "# Import Libraries\n",
        "import pandas as pd\n",
        "import numpy as np\n",
        "import matplotlib.pyplot as plt\n",
        "import seaborn as sns\n",
        "from google.colab import drive\n",
        "drive.mount('/content/gdrive/')"
      ],
      "metadata": {
        "id": "M8Vqi-pPk-HR"
      },
      "execution_count": null,
      "outputs": []
    },
    {
      "cell_type": "markdown",
      "source": [
        "### Dataset Loading"
      ],
      "metadata": {
        "id": "3RnN4peoiCZX"
      }
    },
    {
      "cell_type": "code",
      "source": [
        "# Load Dataset\n",
        "data = pd.read_csv('/content/gdrive/MyDrive/GlobalTerrorismData.csv', encoding_errors= 'replace')\n",
        "data"
      ],
      "metadata": {
        "id": "4CkvbW_SlZ_R"
      },
      "execution_count": null,
      "outputs": []
    },
    {
      "cell_type": "markdown",
      "source": [
        "### Dataset First View"
      ],
      "metadata": {
        "id": "x71ZqKXriCWQ"
      }
    },
    {
      "cell_type": "code",
      "source": [
        "# Dataset First Look\n",
        "data.head()"
      ],
      "metadata": {
        "id": "LWNFOSvLl09H"
      },
      "execution_count": null,
      "outputs": []
    },
    {
      "cell_type": "markdown",
      "source": [
        "### Dataset Rows & Columns count"
      ],
      "metadata": {
        "id": "7hBIi_osiCS2"
      }
    },
    {
      "cell_type": "code",
      "source": [
        "# Dataset Rows & Columns count\n",
        "data.columns"
      ],
      "metadata": {
        "id": "Kllu7SJgmLij"
      },
      "execution_count": null,
      "outputs": []
    },
    {
      "cell_type": "code",
      "source": [
        "len(data.axes[0])"
      ],
      "metadata": {
        "id": "zd6hCiAG3G8N"
      },
      "execution_count": null,
      "outputs": []
    },
    {
      "cell_type": "markdown",
      "source": [
        "### Dataset Information"
      ],
      "metadata": {
        "id": "JlHwYmJAmNHm"
      }
    },
    {
      "cell_type": "code",
      "source": [
        "# Dataset Info\n",
        "data.info()"
      ],
      "metadata": {
        "id": "e9hRXRi6meOf"
      },
      "execution_count": null,
      "outputs": []
    },
    {
      "cell_type": "markdown",
      "source": [
        "#### Duplicate Values"
      ],
      "metadata": {
        "id": "35m5QtbWiB9F"
      }
    },
    {
      "cell_type": "code",
      "source": [
        "# Dataset Duplicate Value Count\n",
        "data.drop_duplicates()"
      ],
      "metadata": {
        "id": "1sLdpKYkmox0"
      },
      "execution_count": null,
      "outputs": []
    },
    {
      "cell_type": "markdown",
      "source": [
        "#### Missing Values/Null Values"
      ],
      "metadata": {
        "id": "PoPl-ycgm1ru"
      }
    },
    {
      "cell_type": "code",
      "source": [
        "# Missing Values/Null Values Count\n",
        "missing_values = data.isnull().sum().sort_values(ascending = False)\n",
        "missing_values"
      ],
      "metadata": {
        "id": "GgHWkxvamxVg"
      },
      "execution_count": null,
      "outputs": []
    },
    {
      "cell_type": "code",
      "source": [
        "# Visualizing the missing values in %\n",
        "percent_bar_x = data.columns\n",
        "percent_bar_y = missing_values*100/len(data)\n",
        "fig = plt.figure(figsize =(15, 8))\n",
        "plt.bar(percent_bar_x,percent_bar_y,width = 0.5)\n",
        "plt.xlabel('columns')\n",
        "plt.xticks([])\n",
        "plt.ylabel('no of missing values in %')\n",
        "plt.title('PERCENt OF MISSING VALUES IN DATA')\n",
        "plt.show()"
      ],
      "metadata": {
        "id": "GLfBtxhe3jx9"
      },
      "execution_count": null,
      "outputs": []
    },
    {
      "cell_type": "code",
      "source": [
        "#this function Removes the Columns from the dataset which has more than threshold % of null values\n",
        "def Drop_MissingVal(data , threshold ):\n",
        "  droped={}\n",
        "  for ColName in data.columns:\n",
        "    missed_data_in_column= data[ColName].isnull().sum()\n",
        "    len_of_data_in_column = len(data[ColName])\n",
        "    available_data_in_column = len_of_data_in_column-missed_data_in_column\n",
        "    percent_missingData_in_column = missed_data_in_column*100/len_of_data_in_column\n",
        "    if percent_missingData_in_column>threshold:\n",
        "      data.drop([ColName],axis = 1,inplace = True)\n",
        "      droped[ColName] = percent_missingData_in_column\n",
        "  print('Droped Columns and % of null values present\\n',droped)"
      ],
      "metadata": {
        "id": "ScwOvZZkjcFe"
      },
      "execution_count": null,
      "outputs": []
    },
    {
      "cell_type": "code",
      "source": [
        "#As of google searches , Many of Data scientists suggest to drop the feature if Null values are more the 25-30% but client still wants to you to work on the dataset so Max Number for null values in collum allowded is ~50%\n",
        "Drop_MissingVal(data = data , threshold = 50  )"
      ],
      "metadata": {
        "id": "xpNxJyzSkNmG"
      },
      "execution_count": null,
      "outputs": []
    },
    {
      "cell_type": "markdown",
      "source": [
        "### What did you know about your dataset?"
      ],
      "metadata": {
        "id": "H0kj-8xxnORC"
      }
    },
    {
      "cell_type": "markdown",
      "source": [
        "Answer Here"
      ],
      "metadata": {
        "id": "gfoNAAC-nUe_"
      }
    },
    {
      "cell_type": "code",
      "source": [
        "data.columns"
      ],
      "metadata": {
        "id": "4SoFQo1sxwlD"
      },
      "execution_count": null,
      "outputs": []
    },
    {
      "cell_type": "markdown",
      "source": [
        "## ***2. Understanding Your Variables***"
      ],
      "metadata": {
        "id": "nA9Y7ga8ng1Z"
      }
    },
    {
      "cell_type": "code",
      "source": [
        "# Dataset Columns\n",
        "data.columns"
      ],
      "metadata": {
        "id": "j7xfkqrt5Ag5"
      },
      "execution_count": null,
      "outputs": []
    },
    {
      "cell_type": "code",
      "source": [
        "# Dataset Describe\n",
        "data.describe()"
      ],
      "metadata": {
        "id": "DnOaZdaE5Q5t"
      },
      "execution_count": null,
      "outputs": []
    },
    {
      "cell_type": "markdown",
      "source": [
        "### Variables Description"
      ],
      "metadata": {
        "id": "PBTbrJXOngz2"
      }
    },
    {
      "cell_type": "markdown",
      "source": [
        "* eventid: Unique identifier for each terrorist event.\n",
        "\n",
        "* iyear: Year in which the incident occurred.\n",
        "\n",
        "* imonth: Month in which the incident occurred.\n",
        "\n",
        "* iday: Day of the month on which the incident occurred.\n",
        "\n",
        "* extended: Indicates whether the duration of the incident extended beyond 24 hours.\n",
        "\n",
        "* country: Numeric code representing the country in which the incident occurred.\n",
        "\n",
        "* country_txt: Name of the country in which the incident occurred.\n",
        "\n",
        "* region: Numeric code representing the region (geopolitical) in which the incident occurred.\n",
        "\n",
        "* region_txt: Name of the region in which the incident occurred.\n",
        "\n",
        "* provstate: Name of the province or state where the incident occurred.\n",
        "\n",
        "* city: Name of the city or location where the incident occurred.\n",
        "\n",
        "* latitude: Latitude coordinate of the incident location.\n",
        "\n",
        "* longitude: Longitude coordinate of the incident location.\n",
        "\n",
        "* specificity: Level of geographical precision for the incident location.\n",
        "\n",
        "* vicinity: Indicates if the incident occurred in the immediate vicinity of the city (1) or not (0).\n",
        "\n",
        "* crit1, crit2, crit3: Binary fields indicating whether the incident met certain criteria for terrorism.\n",
        "\n",
        "* doubtterr: Level of doubt regarding whether the incident should be classified as an act of terrorism.\n",
        "\n",
        "* multiple: Indicates if the incident involved multiple attacks (1) or not (0).\n",
        "\n",
        "* success: Indicates if the attack was deemed successful (1) or not (0).\n",
        "\n",
        "* suicide: Indicates if the attack was a suicide attack (1) or not (0).\n",
        "\n",
        "* attacktype1: Numeric code representing the type of attack.\n",
        "\n",
        "* attacktype1_txt: Description of the type of attack.\n",
        "\n",
        "* targtype1: Numeric code representing the type of target/victim.\n",
        "\n",
        "* targtype1_txt: Description of the target/victim type.\n",
        "\n",
        "* target1: Specific target or victim of the attack.\n",
        "\n",
        "* natlty1: Numeric code representing the nationality of the target/victim.\n",
        "\n",
        "* natlty1_txt: Description of the nationality of the target/victim.\n",
        "\n",
        "* gname: Name of the terrorist group responsible for the incident.\n",
        "\n",
        "* guncertain1: Indicates uncertainty about the identity of the group responsible (1 for uncertain, 0 for certain).\n",
        "\n",
        "* individual: Indicates if the attack was conducted by a lone individual (1) or not (0).\n",
        "\n",
        "* weaptype1: Numeric code representing the type of weapon used.\n",
        "\n",
        "* weaptype1_txt: Description of the weapon type.\n",
        "\n",
        "* nkill: Number of confirmed fatalities in the incident.\n",
        "\n",
        "* nkillus: Number of U.S. citizens killed in the incident.\n",
        "\n",
        "* nkillter: Number of terrorists/fatalities during the incident.\n",
        "\n",
        "* nwound: Number of confirmed non-fatal injuries.\n",
        "\n",
        "* nwoundus: Number of U.S. citizens wounded in the incident.\n",
        "\n",
        "* nwoundte: Number of terrorists/non-fatal injuries during the incident.\n",
        "\n",
        "* property: Indicates if property was damaged or destroyed (1) or not (0).\n",
        "\n",
        "* ishostkid: Indicates if hostages were taken during the incident (1) or not (0).\n",
        "\n",
        "* dbsource: Source of the data.\n",
        "\n",
        "* INT_LOG, INT_IDEO, INT_MISC, INT_ANY: Indicators of international impact or involvement in the incident."
      ],
      "metadata": {
        "id": "aJV4KIxSnxay"
      }
    },
    {
      "cell_type": "markdown",
      "source": [
        "### Check Unique Values for each variable."
      ],
      "metadata": {
        "id": "u3PMJOP6ngxN"
      }
    },
    {
      "cell_type": "code",
      "source": [
        "# Check Unique Values for each Column .\n",
        "def check_uniqueVar(data):\n",
        "  for col in data:\n",
        "    uni = data[col].nunique()\n",
        "    print(col , ':', uni)\n",
        "\n",
        "check_uniqueVar(data)"
      ],
      "metadata": {
        "id": "zms12Yq5n-jE"
      },
      "execution_count": null,
      "outputs": []
    },
    {
      "cell_type": "markdown",
      "source": [
        "## 3. ***Data Wrangling***"
      ],
      "metadata": {
        "id": "dauF4eBmngu3"
      }
    },
    {
      "cell_type": "markdown",
      "source": [
        "### Data Wrangling Code"
      ],
      "metadata": {
        "id": "bKJF3rekwFvQ"
      }
    },
    {
      "cell_type": "code",
      "source": [
        "# Handelling missing/NULL/invalid values from the dataset"
      ],
      "metadata": {
        "id": "iKiL2-w2vcN8"
      },
      "execution_count": null,
      "outputs": []
    },
    {
      "cell_type": "code",
      "source": [
        "#Gives the sum of Null values present in each column\n",
        "def null_vals(data):\n",
        "  for col in data:\n",
        "    print(col,' : ',data[col].isnull().sum())\n",
        "null_vals(data)"
      ],
      "metadata": {
        "id": "7noNjaRs9JUT"
      },
      "execution_count": null,
      "outputs": []
    },
    {
      "cell_type": "code",
      "source": [
        "# The location column contains 1,26,196 null values so there are two best options gather more information about the attack or Drop the entire column\n",
        "# likewise summary column contains 66, 129 null values and currently for EDA this column is not needed\n",
        "\n",
        "data = data.drop(['summary','scite1','weapsubtype1','weapsubtype1_txt','weapdetail','corp1','targsubtype1','targsubtype1_txt',\n",
        "                  'nperps','nperpcap','claimed','imonth','iday','extended','country','region','provstate','specificity','vicinity',\n",
        "                  'crit1', 'crit2', 'crit3','doubtterr', 'multiple','targtype1','target1','natlty1','natlty1_txt',\n",
        "                  'guncertain1', 'individual', 'weaptype1','dbsource'], axis = 1)\n",
        "\n",
        "# Resons for why droped these columns?\n",
        "'''\n",
        "1. some Columns are Not usefull for EDA such as summary can be used for NLP,\n",
        "2. weapsubtype1,targsubtype1,country, etc are a numerical representation of the weapsubtype1_txt,targsubtype1_txt,country_txt\n",
        "3. Some columns contains alot of Null values present so droping the null columns can be result in loss of data for other usefull variables\n",
        "'''"
      ],
      "metadata": {
        "id": "KdAT5QJZvcFw"
      },
      "execution_count": null,
      "outputs": []
    },
    {
      "cell_type": "code",
      "source": [
        "data"
      ],
      "metadata": {
        "id": "iZlGS8-CvcCs"
      },
      "execution_count": null,
      "outputs": []
    },
    {
      "cell_type": "code",
      "source": [
        "# dropping the null values\n",
        "data.dropna(subset=['latitude', 'longitude','ishostkid'], inplace=True)\n",
        "# why chosing loss of data?\n",
        "'''\n",
        "1. latitude andd longitude columns contains 4,556 null values which is very less loss of data but can also increase the accuracy of analysis\n",
        "2. can also can be used to reduce null values of other common null values of variables\n",
        "'''"
      ],
      "metadata": {
        "id": "_NrXCOyrvb_9"
      },
      "execution_count": null,
      "outputs": []
    },
    {
      "cell_type": "code",
      "source": [
        "null_vals(data)"
      ],
      "metadata": {
        "id": "QcaEYspMvb80"
      },
      "execution_count": null,
      "outputs": []
    },
    {
      "cell_type": "code",
      "source": [
        "# method to remove null values from important columns\n",
        "grpby_for_missing = data.groupby(['country_txt','attacktype1_txt'])['nkill'].median()\n",
        "grpby_for_missing"
      ],
      "metadata": {
        "id": "U5m_nxSqvb5N"
      },
      "execution_count": null,
      "outputs": []
    },
    {
      "cell_type": "code",
      "source": [
        "# replacing the null valaues of important features with median\n",
        "'''\n",
        "When dealing with missing or null values, imputing them with a statistically robust measure like the median helps maintain dataset completeness without introducing significant bias.\n",
        "'''\n",
        "\n",
        "data['nkill'] = data['nkill'].fillna(data.groupby(['country_txt','attacktype1_txt'])['nkill'].transform('median'))\n",
        "data['nkillus'] = data['nkillus'].fillna(data.groupby(['country_txt','attacktype1_txt','weaptype1_txt'])['nkillus'].transform('median'))\n",
        "data['nkillter'] = data['nkillter'].fillna(data.groupby(['country_txt','attacktype1_txt'])['nkillter'].transform('median'))\n",
        "data['nwound'] = data['nwound'].fillna(data.groupby(['country_txt','attacktype1_txt'])['nwound'].transform('median'))\n",
        "data['nwoundus'] = data['nwoundus'].fillna(data.groupby(['country_txt','attacktype1_txt','weaptype1_txt'])['nwoundus'].transform('median'))\n",
        "data['nwoundte'] = data['nwoundte'].fillna(data.groupby(['country_txt','attacktype1_txt'])['nwoundte'].transform('median'))"
      ],
      "metadata": {
        "id": "0dmTKLHivbru"
      },
      "execution_count": null,
      "outputs": []
    },
    {
      "cell_type": "code",
      "source": [
        "# why replacing the null values with zero;\n",
        "'''\n",
        "there are still some null values left,so replacing them with 0\n",
        "'''\n",
        "data[\"nkill\"].fillna(0, inplace = True)\n",
        "data[\"nkillus\"].fillna(0, inplace = True)\n",
        "data[\"nkillter\"].fillna(0, inplace = True)\n",
        "data[\"nwound\"].fillna(0, inplace = True)\n",
        "data[\"nwoundus\"].fillna(0, inplace = True)\n",
        "data[\"nwoundte\"].fillna(0, inplace = True)"
      ],
      "metadata": {
        "id": "bvu9Pafgvbo8"
      },
      "execution_count": null,
      "outputs": []
    },
    {
      "cell_type": "code",
      "source": [
        "# finally entire data is been cleaned and we have (173732, 47) with non-NullValues\n",
        "null_vals(data)"
      ],
      "metadata": {
        "id": "akHoBU1dvbjo"
      },
      "execution_count": null,
      "outputs": []
    },
    {
      "cell_type": "code",
      "source": [
        "data.shape"
      ],
      "metadata": {
        "id": "4D2lgMKYvbgO"
      },
      "execution_count": null,
      "outputs": []
    },
    {
      "cell_type": "markdown",
      "source": [
        "* Checking shape of data\n",
        "* Droping the duplicate data\n",
        "* checking for Null values\n",
        "* Droping Null rows\n",
        "* Handeling the Null values with median and zero accordingly\n"
      ],
      "metadata": {
        "id": "MSa1f5Uengrz"
      }
    },
    {
      "cell_type": "markdown",
      "source": [
        "## ***4. Data Vizualization, Storytelling & Experimenting with charts : Understand the relationships between variables***"
      ],
      "metadata": {
        "id": "GF8Ens_Soomf"
      }
    },
    {
      "cell_type": "markdown",
      "source": [
        "#### Chart - 1"
      ],
      "metadata": {
        "id": "0wOQAZs5pc--"
      }
    },
    {
      "cell_type": "code",
      "source": [
        "# Chart - 1 visualization code\n",
        "\n",
        "'''\n",
        "sorting values with groupby year and Successful attempts for which year have most & least attempts of attack\n",
        "#Visualisation of total number of attack in all years\n",
        "'''\n",
        "grpby_year = data.groupby('iyear')['success'].sum()\n",
        "\n",
        "fig = plt.figure(figsize =(12, 8))\n",
        "plt.xlabel('YEAR')\n",
        "plt.ylabel('ATTACKS')\n",
        "plt.plot(grpby_year.index,grpby_year,color = 'green',\n",
        "         linestyle = 'solid', marker = '.',\n",
        "         markerfacecolor = 'red', markersize = 12)\n",
        "plt.show()"
      ],
      "metadata": {
        "id": "7v_ESjsspbW7"
      },
      "execution_count": null,
      "outputs": []
    },
    {
      "cell_type": "code",
      "source": [
        "#top 10 Most of the attacks yearwise VS Least attacks yearwise\n",
        "top5_series = grpby_year.sort_values(ascending = False)\n",
        "top5 = top5_series[:5]\n",
        "least5_series = grpby_year.sort_values(ascending = True)\n",
        "least5 = least5_series[:5]\n",
        "\n",
        "#visualtizing the results\n",
        "sns.set()\n",
        "figure, axes = plt.subplots(1, 2,figsize=(10, 5))\n",
        "figure.suptitle('Number of Attacks by Year')\n",
        "\n",
        "sns.barplot(x = top5.index,y = top5,ax=axes[0])\n",
        "axes[0].title.set_text('Top 5')\n",
        "axes[0].bar_label(axes[0].containers[0])\n",
        "\n",
        "sns.barplot(x = least5.index ,y=least5,ax=axes[1])\n",
        "axes[1].title.set_text('Least 5')\n",
        "axes[1].bar_label(axes[1].containers[0])"
      ],
      "metadata": {
        "id": "w-v6xEMAmQL3"
      },
      "execution_count": null,
      "outputs": []
    },
    {
      "cell_type": "markdown",
      "source": [
        "##### 1. Why did you pick the specific chart?"
      ],
      "metadata": {
        "id": "K5QZ13OEpz2H"
      }
    },
    {
      "cell_type": "markdown",
      "source": [
        "BarPlot : Using bar plot give the variate analysis of the data i.e using 2 features for drawing conclusion from 2 features of dataset\n",
        "- Making the bar plot of all the years and and Number of attacks that year\n",
        "- which year has witneesed the the most number of attacks\n",
        "  "
      ],
      "metadata": {
        "id": "XESiWehPqBRc"
      }
    },
    {
      "cell_type": "markdown",
      "source": [
        "##### 2. What is/are the insight(s) found from the chart?"
      ],
      "metadata": {
        "id": "lQ7QKXXCp7Bj"
      }
    },
    {
      "cell_type": "markdown",
      "source": [
        "* Top 5 years of number of attacks:\n",
        "  - 1. 2013\n",
        "  - 2. 2014\n",
        "  - 3. 2015\n",
        "  - 4. 2016\n",
        "  - 5. 2017\n",
        "\n",
        "* Least 5  years of number of attacks:\n",
        "  - 1. 1970\n",
        "  - 2. 1971\n",
        "  - 3. 1972\n",
        "  - 4. 1973\n",
        "  - 5. 1974"
      ],
      "metadata": {
        "id": "C_j1G7yiqdRP"
      }
    },
    {
      "cell_type": "markdown",
      "source": [
        "##### 3. Will the gained insights help creating a positive business impact?\n",
        "Are there any insights that lead to negative growth? Justify with specific reason."
      ],
      "metadata": {
        "id": "448CDAPjqfQr"
      }
    },
    {
      "cell_type": "markdown",
      "source": [
        "- Looking at the above trend, Incresing technology also increases the number of terrosism attacks"
      ],
      "metadata": {
        "id": "3cspy4FjqxJW"
      }
    },
    {
      "cell_type": "markdown",
      "source": [
        "#### Chart - 2"
      ],
      "metadata": {
        "id": "KSlN3yHqYklG"
      }
    },
    {
      "cell_type": "code",
      "source": [
        "# Chart - 2 visualization code\n",
        "#2)in which year which Country has maximum attacks"
      ],
      "metadata": {
        "id": "R4YgtaqtYklH"
      },
      "execution_count": null,
      "outputs": []
    },
    {
      "cell_type": "code",
      "source": [
        "data['country_txt'].nunique()"
      ],
      "metadata": {
        "id": "CRdFxeIIoq3j"
      },
      "execution_count": null,
      "outputs": []
    },
    {
      "cell_type": "code",
      "source": [
        "grpby_countrytxt = data.groupby('country_txt')['success'].sum()\n",
        "grpby_countrytxt"
      ],
      "metadata": {
        "id": "FNfsNI_Soqqd"
      },
      "execution_count": null,
      "outputs": []
    },
    {
      "cell_type": "code",
      "source": [
        "#visualtizing the results\n",
        "top5_con = grpby_countrytxt.sort_values(ascending = False)\n",
        "top5_country = top5_con[:5]\n",
        "\n",
        "fig = plt.figure(figsize =(8, 6))\n",
        "top5_con_plot = sns.barplot(x = top5_country.index, y = top5_country)\n",
        "top5_con_plot.set_title('Top 5 Countries with most attack')"
      ],
      "metadata": {
        "id": "Y4rlDz4Woxz8"
      },
      "execution_count": null,
      "outputs": []
    },
    {
      "cell_type": "markdown",
      "source": [
        "##### 1. Why did you pick the specific chart?"
      ],
      "metadata": {
        "id": "t6dVpIINYklI"
      }
    },
    {
      "cell_type": "markdown",
      "source": [
        "Bar chart can give the exact Comparision Between the countries which is a categorical variable with number of attacks in each country"
      ],
      "metadata": {
        "id": "5aaW0BYyYklI"
      }
    },
    {
      "cell_type": "markdown",
      "source": [
        "##### 2. What is/are the insight(s) found from the chart?"
      ],
      "metadata": {
        "id": "ijmpgYnKYklI"
      }
    },
    {
      "cell_type": "markdown",
      "source": [
        "* Countries with most attacks:\n",
        "  - Iraq\n",
        "  - Pakistan\n",
        "  - Afghanistan\n",
        "  - India\n",
        "  - Colombia"
      ],
      "metadata": {
        "id": "PSx9atu2YklI"
      }
    },
    {
      "cell_type": "markdown",
      "source": [
        "##### 3. Will the gained insights help creating a positive business impact?\n",
        "Are there any insights that lead to negative growth? Justify with specific reason."
      ],
      "metadata": {
        "id": "-JiQyfWJYklI"
      }
    },
    {
      "cell_type": "markdown",
      "source": [
        "* Can be Help to focus to Governance, diaster management and Providing aid to victims\n",
        "* Framing Bussiness stratergies in nations"
      ],
      "metadata": {
        "id": "BcBbebzrYklV"
      }
    },
    {
      "cell_type": "markdown",
      "source": [
        "#### Chart - 3"
      ],
      "metadata": {
        "id": "EM7whBJCYoAo"
      }
    },
    {
      "cell_type": "code",
      "source": [
        "# Chart - 3 visualization code\n",
        "# 3)which region had maximum number of attacks\n",
        "data['region_txt'].nunique()"
      ],
      "metadata": {
        "id": "t6GMdE67YoAp"
      },
      "execution_count": null,
      "outputs": []
    },
    {
      "cell_type": "code",
      "source": [
        "grpby_region = data.groupby(['region_txt'])['success'].sum()\n",
        "grpby_region"
      ],
      "metadata": {
        "id": "ARDYI22Spv1N"
      },
      "execution_count": null,
      "outputs": []
    },
    {
      "cell_type": "code",
      "source": [
        "top5_reg = grpby_region.sort_values(ascending = False)\n",
        "top5_reg = top5_reg[:5]\n",
        "top5_reg\n"
      ],
      "metadata": {
        "id": "qWROP7TV8JCu"
      },
      "execution_count": null,
      "outputs": []
    },
    {
      "cell_type": "code",
      "source": [
        "fig = plt.figure(figsize =(8, 4))\n",
        "top5_reg_plot = sns.barplot(x = top5_reg, y = top5_reg.index)\n",
        "top5_reg_plot.set_title('Top 5 regions with most attack')"
      ],
      "metadata": {
        "id": "8qXNjrnoqPP4"
      },
      "execution_count": null,
      "outputs": []
    },
    {
      "cell_type": "markdown",
      "source": [
        "##### 1. Why did you pick the specific chart?"
      ],
      "metadata": {
        "id": "fge-S5ZAYoAp"
      }
    },
    {
      "cell_type": "markdown",
      "source": [
        "* displying which region is most prone to attacks can be well visualized using bar plot"
      ],
      "metadata": {
        "id": "5dBItgRVYoAp"
      }
    },
    {
      "cell_type": "markdown",
      "source": [
        "##### 2. What is/are the insight(s) found from the chart?"
      ],
      "metadata": {
        "id": "85gYPyotYoAp"
      }
    },
    {
      "cell_type": "markdown",
      "source": [
        "Middle East & North Africa  has largest number of attacks followed by the South Asia South America, Sub-Saharan Africa, Western Europe"
      ],
      "metadata": {
        "id": "4jstXR6OYoAp"
      }
    },
    {
      "cell_type": "markdown",
      "source": [
        "##### 3. Will the gained insights help creating a positive business impact?\n",
        "Are there any insights that lead to negative growth? Justify with specific reason."
      ],
      "metadata": {
        "id": "RoGjAbkUYoAp"
      }
    },
    {
      "cell_type": "markdown",
      "source": [
        "Yes, This information can lead to the amount of terrorism happens in this area and where the terrorism exits there is very limited scope of bussiness and anyone won't like to invest in such areas"
      ],
      "metadata": {
        "id": "zfJ8IqMcYoAp"
      }
    },
    {
      "cell_type": "markdown",
      "source": [
        "#### Chart - 4"
      ],
      "metadata": {
        "id": "4Of9eVA-YrdM"
      }
    },
    {
      "cell_type": "code",
      "source": [
        "# Chart - 4 visualization code"
      ],
      "metadata": {
        "id": "irlUoxc8YrdO"
      },
      "execution_count": null,
      "outputs": []
    },
    {
      "cell_type": "code",
      "source": [
        "grpby_attacktype = data.groupby(['attacktype1_txt'])['nkill'].sum()\n",
        "grpby_attacktype"
      ],
      "metadata": {
        "id": "nh6qEAIJrK7V"
      },
      "execution_count": null,
      "outputs": []
    },
    {
      "cell_type": "code",
      "source": [
        "fig = plt.figure(figsize =(12, 8))\n",
        "grpby_attacktype = sns.barplot(x = grpby_attacktype, y = grpby_attacktype.index)\n",
        "grpby_attacktype.set_title('Number of kills by Attack type')"
      ],
      "metadata": {
        "id": "GDUT9q3wr7BK"
      },
      "execution_count": null,
      "outputs": []
    },
    {
      "cell_type": "markdown",
      "source": [
        "##### 1. Why did you pick the specific chart?"
      ],
      "metadata": {
        "id": "iky9q4vBYrdO"
      }
    },
    {
      "cell_type": "markdown",
      "source": [
        "* Bar chart can throughly express the comparision of one categorical and one numerical feature"
      ],
      "metadata": {
        "id": "aJRCwT6DYrdO"
      }
    },
    {
      "cell_type": "markdown",
      "source": [
        "##### 2. What is/are the insight(s) found from the chart?"
      ],
      "metadata": {
        "id": "F6T5p64dYrdO"
      }
    },
    {
      "cell_type": "markdown",
      "source": [
        "* the chart throw the focus where the number of peoples killed by which type of attack\n",
        "Armed Assault and Bombing/ Explosion causees most number of deaths\n"
      ],
      "metadata": {
        "id": "Xx8WAJvtYrdO"
      }
    },
    {
      "cell_type": "markdown",
      "source": [
        "##### 3. Will the gained insights help creating a positive business impact?\n",
        "Are there any insights that lead to negative growth? Justify with specific reason."
      ],
      "metadata": {
        "id": "y-Ehk30pYrdP"
      }
    },
    {
      "cell_type": "markdown",
      "source": [
        "* tough we have terrorism dataset so here we can compair that which attack type harms the maximum number of people"
      ],
      "metadata": {
        "id": "jLNxxz7MYrdP"
      }
    },
    {
      "cell_type": "markdown",
      "source": [
        "#### Chart - 5"
      ],
      "metadata": {
        "id": "bamQiAODYuh1"
      }
    },
    {
      "cell_type": "code",
      "source": [
        "# Chart - 5 visualization code\n",
        "grpby_attacktype_wounds = data.groupby(['attacktype1_txt'])['nwound'].sum()\n",
        "fig = plt.figure(figsize =(12, 8))\n",
        "grpby_attacktype_wounds = sns.barplot(x = grpby_attacktype_wounds, y = grpby_attacktype_wounds.index)\n",
        "grpby_attacktype_wounds.set_title('people got wounded by Attack type')"
      ],
      "metadata": {
        "id": "IplTwu7Purxy"
      },
      "execution_count": null,
      "outputs": []
    },
    {
      "cell_type": "markdown",
      "source": [
        "##### 1. Why did you pick the specific chart?"
      ],
      "metadata": {
        "id": "QHF8YVU7Yuh3"
      }
    },
    {
      "cell_type": "markdown",
      "source": [
        "* To show the comparision between the Attack type and NUmber of peoples got wonded\n"
      ],
      "metadata": {
        "id": "dcxuIMRPYuh3"
      }
    },
    {
      "cell_type": "markdown",
      "source": [
        "##### 2. What is/are the insight(s) found from the chart?"
      ],
      "metadata": {
        "id": "GwzvFGzlYuh3"
      }
    },
    {
      "cell_type": "markdown",
      "source": [
        "* The number of people got wounded by the boombings and explosions is far more the any other attacks"
      ],
      "metadata": {
        "id": "uyqkiB8YYuh3"
      }
    },
    {
      "cell_type": "markdown",
      "source": [
        "##### 3. Will the gained insights help creating a positive business impact?\n",
        "Are there any insights that lead to negative growth? Justify with specific reason."
      ],
      "metadata": {
        "id": "qYpmQ266Yuh3"
      }
    },
    {
      "cell_type": "markdown",
      "source": [
        "* here we get to know that boombings and explosions can make peoples wounded far more than any other attack and also can kill most of the peoples ( as seen in prevision chart)\n"
      ],
      "metadata": {
        "id": "_WtzZ_hCYuh4"
      }
    },
    {
      "cell_type": "markdown",
      "source": [
        "#### Chart - 6"
      ],
      "metadata": {
        "id": "OH-pJp9IphqM"
      }
    },
    {
      "cell_type": "code",
      "source": [
        "# Chart - 6 visualization code\n",
        "target_counts = data['targtype1_txt'].value_counts()\n",
        "target_counts"
      ],
      "metadata": {
        "id": "AwM2tEbZaszm"
      },
      "execution_count": null,
      "outputs": []
    },
    {
      "cell_type": "code",
      "source": [
        "fig, ax = plt.subplots(figsize =(16, 9))\n",
        "target_counts_plot = sns.barplot(x = target_counts, y = target_counts.index)\n",
        "target_counts_plot.set(xlabel =\"Number of attacks\", ylabel = \"sectors\", title ='Observations of terrorism attacks on Diffrent Sectors')\n",
        "for i in ax.patches:\n",
        "    plt.text(i.get_width()+0.2, i.get_y()+0.5,\n",
        "             int(round((i.get_width()), 0)),\n",
        "             fontsize = 10,\n",
        "             color ='black')"
      ],
      "metadata": {
        "id": "pRCUpDtrhRD-"
      },
      "execution_count": null,
      "outputs": []
    },
    {
      "cell_type": "markdown",
      "source": [
        "##### 1. Why did you pick the specific chart?"
      ],
      "metadata": {
        "id": "bbFf2-_FphqN"
      }
    },
    {
      "cell_type": "markdown",
      "source": [
        "* Using Bar chart clearly express the comparison of numbers of Target type  "
      ],
      "metadata": {
        "id": "loh7H2nzphqN"
      }
    },
    {
      "cell_type": "markdown",
      "source": [
        "##### 2. What is/are the insight(s) found from the chart?"
      ],
      "metadata": {
        "id": "_ouA3fa0phqN"
      }
    },
    {
      "cell_type": "markdown",
      "source": [
        "* We can clearly see the diffrence in the above chart that which are the main target areas where terrorist plan there attacks"
      ],
      "metadata": {
        "id": "VECbqPI7phqN"
      }
    },
    {
      "cell_type": "markdown",
      "source": [
        "##### 3. Will the gained insights help creating a positive business impact?\n",
        "Are there any insights that lead to negative growth? Justify with specific reason."
      ],
      "metadata": {
        "id": "Seke61FWphqN"
      }
    },
    {
      "cell_type": "markdown",
      "source": [
        "* Private Citizens and Property has been targeted at most with 25 of total share followed by military with 15.4% share, police with 13.8% share, goverment with 11.9% share, business with 11.5% share and so onn"
      ],
      "metadata": {
        "id": "DW4_bGpfphqN"
      }
    },
    {
      "cell_type": "markdown",
      "source": [
        "#### Chart - 7"
      ],
      "metadata": {
        "id": "PIIx-8_IphqN"
      }
    },
    {
      "cell_type": "code",
      "source": [
        "# Chart - 7 visualization code\n",
        "gname = data['gname'].value_counts().sort_values(ascending = False)\n",
        "gname = gname[1:11]\n",
        "gname"
      ],
      "metadata": {
        "id": "lqAIGUfyphqO"
      },
      "execution_count": null,
      "outputs": []
    },
    {
      "cell_type": "code",
      "source": [
        "fig = plt.figure(figsize =(10, 6))\n",
        "gname_10_plot = sns.barplot(x = gname, y = gname.index)\n",
        "gname_10_plot.set_title('Top 10 Most active terrorist Groups with number of attacks')\n",
        "gname_10_plot.set(xlabel =\"Number of attacks\", ylabel = \"Organisations\")\n",
        "for i in gname_10_plot.containers:\n",
        "    gname_10_plot.bar_label(i,)"
      ],
      "metadata": {
        "id": "jOGYMx5XiaBu"
      },
      "execution_count": null,
      "outputs": []
    },
    {
      "cell_type": "markdown",
      "source": [
        "##### 1. Why did you pick the specific chart?"
      ],
      "metadata": {
        "id": "t27r6nlMphqO"
      }
    },
    {
      "cell_type": "markdown",
      "source": [
        "\n",
        "\n",
        "*   Bar chart can clearly show the number of attacks present in the\n",
        "\n",
        "\n",
        "\n"
      ],
      "metadata": {
        "id": "iv6ro40sphqO"
      }
    },
    {
      "cell_type": "markdown",
      "source": [
        "##### 2. What is/are the insight(s) found from the chart?"
      ],
      "metadata": {
        "id": "r2jJGEOYphqO"
      }
    },
    {
      "cell_type": "markdown",
      "source": [
        "* we can evaluet the number of attacks attempted by the terrorist groups, which terrorist groups are mostly active"
      ],
      "metadata": {
        "id": "Po6ZPi4hphqO"
      }
    },
    {
      "cell_type": "markdown",
      "source": [
        "##### 3. Will the gained insights help creating a positive business impact?\n",
        "Are there any insights that lead to negative growth? Justify with specific reason."
      ],
      "metadata": {
        "id": "b0JNsNcRphqO"
      }
    },
    {
      "cell_type": "markdown",
      "source": [
        "\n",
        "\n",
        "*   Though we have larger share of  79832 unknown 'gname' values But Showing them in chartwon't give us more valueable output and the chart looks disrupt, so choosing from second number gave this insights\n",
        "*   Taliban is the most active terrorist group with 7143 number of claimed attacks followed by\n",
        "Islamic State of Iraq and the Levant (ISIL)         5579,\n",
        "Shining Path (SL)                                   4277,\n",
        "Al-Shabaab                                          3225,\n",
        "Farabundo Marti National Liberation Front (FMLN)    2976.\n",
        "\n"
      ],
      "metadata": {
        "id": "xvSq8iUTphqO"
      }
    },
    {
      "cell_type": "markdown",
      "source": [
        "#### Chart - 8"
      ],
      "metadata": {
        "id": "BZR9WyysphqO"
      }
    },
    {
      "cell_type": "code",
      "source": [
        "# Chart - 8 visualization code\n",
        "columns_of_intrest = ['success', 'suicide', 'nkill', 'nwound']\n",
        "relevant_data = data[columns_of_intrest]\n",
        "\n",
        "correlation_matrix = relevant_data.corr()\n",
        "\n",
        "plt.figure(figsize=(12, 8))\n",
        "sns.pairplot(relevant_data, kind='scatter', diag_kind='kde')\n",
        "plt.suptitle('Pair Plot of Variables')\n",
        "plt.show()"
      ],
      "metadata": {
        "id": "TdPTWpAVphqO"
      },
      "execution_count": null,
      "outputs": []
    },
    {
      "cell_type": "markdown",
      "source": [
        "##### 1. Why did you pick the specific chart?"
      ],
      "metadata": {
        "id": "jj7wYXLtphqO"
      }
    },
    {
      "cell_type": "markdown",
      "source": [
        "* Certainly! To explore relationships between variables like success, suicide attacks, and casualties"
      ],
      "metadata": {
        "id": "Ob8u6rCTphqO"
      }
    },
    {
      "cell_type": "markdown",
      "source": [
        "##### 2. What is/are the insight(s) found from the chart?"
      ],
      "metadata": {
        "id": "eZrbJ2SmphqO"
      }
    },
    {
      "cell_type": "markdown",
      "source": [
        "* it creates pair plots using pairplot() to display pairwise relationships between these variables. The diagonal shows the kernel density estimate (KDE) of each variable, while the scatter plots show relationships between different pairs of variables."
      ],
      "metadata": {
        "id": "mZtgC_hjphqO"
      }
    },
    {
      "cell_type": "markdown",
      "source": [
        "##### 3. Will the gained insights help creating a positive business impact?\n",
        "Are there any insights that lead to negative growth? Justify with specific reason."
      ],
      "metadata": {
        "id": "rFu4xreNphqO"
      }
    },
    {
      "cell_type": "markdown",
      "source": [
        "* These visualizations will help you understand the correlations between success, suicide attacks, and casualties in the dataset, allowing for insights into how these variables might relate to each other."
      ],
      "metadata": {
        "id": "ey_0qi68phqO"
      }
    },
    {
      "cell_type": "markdown",
      "source": [
        "#### Chart - 9"
      ],
      "metadata": {
        "id": "YJ55k-q6phqO"
      }
    },
    {
      "cell_type": "code",
      "source": [
        "# Chart - 9 visualization code\n",
        "property_damage_counts = data['property'].value_counts()\n",
        "\n",
        "plt.figure(figsize=(10, 6))\n",
        "plt.pie(property_damage_counts, labels  = property_damage_counts.index,autopct='%.4f')\n",
        "plt.show()"
      ],
      "metadata": {
        "id": "B2aS4O1ophqO"
      },
      "execution_count": null,
      "outputs": []
    },
    {
      "cell_type": "markdown",
      "source": [
        "##### 1. Why did you pick the specific chart?"
      ],
      "metadata": {
        "id": "gCFgpxoyphqP"
      }
    },
    {
      "cell_type": "markdown",
      "source": [
        "* The pie chart was chosen to display proportions of different categories (0, 1, -9) in property damage data. Pie charts work well when showcasing parts of a whole, making it easier to visualize the distribution of categorical data."
      ],
      "metadata": {
        "id": "TVxDimi2phqP"
      }
    },
    {
      "cell_type": "markdown",
      "source": [
        "##### 2. What is/are the insight(s) found from the chart?"
      ],
      "metadata": {
        "id": "OVtJsKN_phqQ"
      }
    },
    {
      "cell_type": "markdown",
      "source": [
        "* **51.3% (1)**: Indicates a significant portion of incidents resulted in some level of property damage.\n",
        "* **36.7% (0)**: Represents instances with no property damage or minimal damage.\n",
        "* 11.99% (-9): Shows a notable percentage where property damage information is missing or not available."
      ],
      "metadata": {
        "id": "ngGi97qjphqQ"
      }
    },
    {
      "cell_type": "markdown",
      "source": [
        "##### 3. Will the gained insights help creating a positive business impact?\n",
        "Are there any insights that lead to negative growth? Justify with specific reason."
      ],
      "metadata": {
        "id": "lssrdh5qphqQ"
      }
    },
    {
      "cell_type": "markdown",
      "source": [
        "* **Positive Impact**: Understanding the distribution of property damage levels can assist in risk assessment and resource allocation for security measures. Addressing incidents with property damage may enhance safety protocols.\n",
        "* **Negative Growth Potential**: The presence of nearly 12% missing data (-9) in property damage information can hinder comprehensive analysis. Lack of information might impact decision-making and risk assessment negatively, potentially leading to blind spots in security strategies or resource allocation."
      ],
      "metadata": {
        "id": "tBpY5ekJphqQ"
      }
    },
    {
      "cell_type": "markdown",
      "source": [
        "#### Chart - 10"
      ],
      "metadata": {
        "id": "U2RJ9gkRphqQ"
      }
    },
    {
      "cell_type": "code",
      "source": [
        "# Chart - 10 visualization code\n",
        "hostage_counts = data['ishostkid'].value_counts()\n",
        "\n",
        "# Plotting the data as a pie chart or bar chart\n",
        "plt.figure(figsize=(12, 8))\n",
        "hostage_counts.plot(kind='pie', autopct='%1.1f%%', startangle=90,explode=(0.25,0.1,0))\n",
        "plt.title('Hostages Taken in Terrorist Incidents')\n",
        "plt.show()"
      ],
      "metadata": {
        "id": "GM7a4YP4phqQ"
      },
      "execution_count": null,
      "outputs": []
    },
    {
      "cell_type": "markdown",
      "source": [
        "##### 1. Why did you pick the specific chart?"
      ],
      "metadata": {
        "id": "1M8mcRywphqQ"
      }
    },
    {
      "cell_type": "markdown",
      "source": [
        "* Pie chart shows the exact diffrenciation of the Hostage Situation in overall terrorist attacks"
      ],
      "metadata": {
        "id": "8agQvks0phqQ"
      }
    },
    {
      "cell_type": "markdown",
      "source": [
        "##### 2. What is/are the insight(s) found from the chart?"
      ],
      "metadata": {
        "id": "tgIPom80phqQ"
      }
    },
    {
      "cell_type": "markdown",
      "source": [
        "* **92.5%(0)** : Hostages  Not taken\n",
        "* **7.4%(1)** : Hostages Taken\n",
        "* **0.2%(-9)**: Missing / Not Available\n"
      ],
      "metadata": {
        "id": "Qp13pnNzphqQ"
      }
    },
    {
      "cell_type": "markdown",
      "source": [
        "##### 3. Will the gained insights help creating a positive business impact?\n",
        "Are there any insights that lead to negative growth? Justify with specific reason."
      ],
      "metadata": {
        "id": "JMzcOPDDphqR"
      }
    },
    {
      "cell_type": "markdown",
      "source": [
        "* **Positive Impact** : In the terrorist attack's, Hostage Situtations is not a comman 92.5% cases arises with Non-Hostage Situation\n",
        "* **Negative Impact** :7.4% of Cases In terorrism arises if Hostages,\n",
        "Due to small amount of cases , considering all terrorism situation can be a setback"
      ],
      "metadata": {
        "id": "R4Ka1PC2phqR"
      }
    },
    {
      "cell_type": "markdown",
      "source": [
        "#### Chart - 11"
      ],
      "metadata": {
        "id": "x-EpHcCOp1ci"
      }
    },
    {
      "cell_type": "code",
      "source": [
        "# Chart - 11 visualization code\n",
        "weapon_type = data['weaptype1_txt'].value_counts()\n",
        "fig = plt.figure(figsize =(10, 6))\n",
        "weapon_type_bar = sns.barplot(x = weapon_type, y = weapon_type.index)\n",
        "weapon_type_bar.set_title('Modes used for attack')\n",
        "for i in weapon_type_bar.containers:\n",
        "    weapon_type_bar.bar_label(i,)"
      ],
      "metadata": {
        "id": "mAQTIvtqp1cj"
      },
      "execution_count": null,
      "outputs": []
    },
    {
      "cell_type": "markdown",
      "source": [
        "##### 1. Why did you pick the specific chart?"
      ],
      "metadata": {
        "id": "X_VqEhTip1ck"
      }
    },
    {
      "cell_type": "markdown",
      "source": [
        "* Bar chart is used for categorical values and can clearly express the number of of weapons used for the attack"
      ],
      "metadata": {
        "id": "-vsMzt_np1ck"
      }
    },
    {
      "cell_type": "markdown",
      "source": [
        "##### 2. What is/are the insight(s) found from the chart?"
      ],
      "metadata": {
        "id": "8zGJKyg5p1ck"
      }
    },
    {
      "cell_type": "markdown",
      "source": [
        "* Explosives(89005) : explosive has been widely used as an weapon type for terrorism\n",
        "* firearms(55756) : Followed by firearms\n",
        "* Unknown(14001) : This is the missing data or unnoted weapons type of event\n",
        "* Incendairy (10754) : This are the diffrent devices used to perform diffrent type of fire\n",
        "* melee( 3474) : Melee is a creating situtations of chaos and confusions and disturb public order\n",
        "* chemical(292) : creating chemical Bombs,or chemical attacks"
      ],
      "metadata": {
        "id": "ZYdMsrqVp1ck"
      }
    },
    {
      "cell_type": "markdown",
      "source": [
        "##### 3. Will the gained insights help creating a positive business impact?\n",
        "Are there any insights that lead to negative growth? Justify with specific reason."
      ],
      "metadata": {
        "id": "PVzmfK_Ep1ck"
      }
    },
    {
      "cell_type": "markdown",
      "source": [
        "* Positive Impact : The above Analysed data and Bar graph shows the type of attacks from differnt type of weapons and can be used to prepare of the diffrent possible attacks and tackle to avoid many large level terrorist attacks\n",
        "\n",
        "* negative Impact : There are many Unknown weapons types present in the this data , which results in loss of valueable data and faluire of data extractions"
      ],
      "metadata": {
        "id": "druuKYZpp1ck"
      }
    },
    {
      "cell_type": "markdown",
      "source": [
        "#### Chart - 12"
      ],
      "metadata": {
        "id": "n3dbpmDWp1ck"
      }
    },
    {
      "cell_type": "code",
      "source": [
        "# Chart - 12 visualization code\n",
        "international_columns = ['INT_LOG', 'INT_IDEO', 'INT_MISC', 'INT_ANY']\n",
        "international_impact = data[international_columns]\n",
        "\n",
        "# Counting occurrences of different international impact indicators\n",
        "impact_counts = international_impact.apply(pd.Series.value_counts)\n",
        "\n",
        "# Plotting the data as a bar chart\n",
        "plt.figure(figsize=(10, 6))\n",
        "impact_counts.T.plot(kind='bar', stacked=True)\n",
        "plt.title('International Impact of Terrorist Incidents')\n",
        "plt.xlabel('Impact Indicators')\n",
        "plt.ylabel('Count')\n",
        "plt.xticks(rotation=0)\n",
        "plt.legend(title='Impact')\n",
        "plt.show()"
      ],
      "metadata": {
        "id": "jCqPuUmDMf9h"
      },
      "execution_count": null,
      "outputs": []
    },
    {
      "cell_type": "markdown",
      "source": [
        "##### 1. Why did you pick the specific chart?"
      ],
      "metadata": {
        "id": "ylSl6qgtp1ck"
      }
    },
    {
      "cell_type": "markdown",
      "source": [
        "* For this type of data with multiple categories (INT_LOG, INT_IDEO, INT_MISC, INT_ANY), a stacked bar chart can effectively compare the distribution of these categories across different values. This chart type allows for easy comparison of the total impact and its components."
      ],
      "metadata": {
        "id": "m2xqNkiQp1ck"
      }
    },
    {
      "cell_type": "markdown",
      "source": [
        "##### 2. What is/are the insight(s) found from the chart?"
      ],
      "metadata": {
        "id": "ZWILFDl5p1ck"
      }
    },
    {
      "cell_type": "markdown",
      "source": [
        "* Distribution of International Impact: The stacked bar chart would illustrate the breakdown of different international impact indicators (INT_LOG, INT_IDEO, INT_MISC) for each value of INT_ANY. It shows the composition of the total international impact.\n",
        "* High Instances of No Indication: A significant number of incidents have no indication of international logistics, ideology, or miscellaneous factors (INT_ANY = 0)."
      ],
      "metadata": {
        "id": "x-lUsV2mp1ck"
      }
    },
    {
      "cell_type": "markdown",
      "source": [
        "##### 3. Will the gained insights help creating a positive business impact?\n",
        "Are there any insights that lead to negative growth? Justify with specific reason."
      ],
      "metadata": {
        "id": "M7G43BXep1ck"
      }
    },
    {
      "cell_type": "markdown",
      "source": [
        "* Positive Business Impact:\n",
        "  - Enhanced Understanding: Understanding the patterns of international influence can aid in risk assessment, policy-making, and security strategies, potentially fostering a safer environment for business operations.\n",
        "  - Informed Decision-Making: Knowledge of global trends in terrorism could influence decisions regarding international investments or expansions.\n",
        "\n",
        "* Negative Growth Potential:\n",
        "  - Potential Limitations: A high frequency of incidents without any indication of international involvement (INT_ANY = 0) might lead to oversight in assessing global risks. Ignoring these incidents might result in gaps in security measures or decision-making, potentially exposing businesses to unforeseen risks in international operations or expansions."
      ],
      "metadata": {
        "id": "5wwDJXsLp1cl"
      }
    },
    {
      "cell_type": "markdown",
      "source": [
        "#### Chart - 13"
      ],
      "metadata": {
        "id": "Ag9LCva-p1cl"
      }
    },
    {
      "cell_type": "code",
      "source": [
        "# Chart - 13 visualization code\n",
        "plt.figure(figsize=(10, 8))\n",
        "sns.scatterplot(x='longitude', y='latitude', data=data, hue='region_txt', palette='viridis', alpha=0.6)\n",
        "plt.title('Geospatial Distribution of Terrorism Incidents')\n",
        "plt.xlabel('Longitude')\n",
        "plt.ylabel('Latitude')\n",
        "plt.legend(title='Region')\n",
        "plt.show()"
      ],
      "metadata": {
        "id": "EUfxeq9-p1cl"
      },
      "execution_count": null,
      "outputs": []
    },
    {
      "cell_type": "code",
      "source": [
        "import plotly.express as px\n",
        "\n",
        "country_incidents = data['country_txt'].value_counts().reset_index()\n",
        "country_incidents.columns = ['Country', 'Incident Count']\n",
        "fig = px.choropleth(country_incidents, locations='Country', locationmode='country names',\n",
        "                    color='Incident Count', hover_name='Country',\n",
        "                    title='Terrorism Incidents by Country')\n",
        "fig.update_layout(showlegend=False)\n",
        "fig.show()"
      ],
      "metadata": {
        "id": "YdZi7GeLhixp"
      },
      "execution_count": null,
      "outputs": []
    },
    {
      "cell_type": "markdown",
      "source": [
        "##### 1. Why did you pick the specific chart?"
      ],
      "metadata": {
        "id": "E6MkPsBcp1cl"
      }
    },
    {
      "cell_type": "markdown",
      "source": [
        "* a choropleth map shows the world map and the Reported incidence and side bar contains the Incident count which represents the exact represents the terrorism prone are around the world\n",
        "\n"
      ],
      "metadata": {
        "id": "V22bRsFWp1cl"
      }
    },
    {
      "cell_type": "markdown",
      "source": [
        "##### 2. What is/are the insight(s) found from the chart?"
      ],
      "metadata": {
        "id": "2cELzS2fp1cl"
      }
    },
    {
      "cell_type": "markdown",
      "source": [
        "* In this map , Iraq shows the highest terrorism incidences followed by afghanistan, pakistan and india . Moreover each country show the terrorism incidences seprately"
      ],
      "metadata": {
        "id": "ozQPc2_Ip1cl"
      }
    },
    {
      "cell_type": "markdown",
      "source": [
        "##### 3. Will the gained insights help creating a positive business impact?\n",
        "Are there any insights that lead to negative growth? Justify with specific reason."
      ],
      "metadata": {
        "id": "3MPXvC8up1cl"
      }
    },
    {
      "cell_type": "markdown",
      "source": [
        "* **Positive Bussiness impact** :\n",
        "  -  Analysing the Terrorist attacks which can be helpfull for the Bussiness growth, framing stratagies  and expansion in all over the world.\n"
      ],
      "metadata": {
        "id": "GL8l1tdLp1cl"
      }
    },
    {
      "cell_type": "markdown",
      "source": [
        "#### Chart - 14 - Correlation Heatmap"
      ],
      "metadata": {
        "id": "NC_X3p0fY2L0"
      }
    },
    {
      "cell_type": "code",
      "source": [
        "# Correlation Heatmap visualization code\n",
        "plt.figure(figsize=(20,20))\n",
        "correlation_matrix = data.corr()\n",
        "sns.heatmap(data = correlation_matrix)\n",
        "plt.show()"
      ],
      "metadata": {
        "id": "xyC9zolEZNRQ"
      },
      "execution_count": null,
      "outputs": []
    },
    {
      "cell_type": "markdown",
      "source": [
        "##### 1. Why did you pick the specific chart?"
      ],
      "metadata": {
        "id": "UV0SzAkaZNRQ"
      }
    },
    {
      "cell_type": "markdown",
      "source": [
        "* Heatmap is the used specifically for co-relating each variable with each variable"
      ],
      "metadata": {
        "id": "DVPuT8LYZNRQ"
      }
    },
    {
      "cell_type": "markdown",
      "source": [
        "##### 2. What is/are the insight(s) found from the chart?"
      ],
      "metadata": {
        "id": "YPEH6qLeZNRQ"
      }
    },
    {
      "cell_type": "markdown",
      "source": [
        "* every variable is compared with each variable"
      ],
      "metadata": {
        "id": "bfSqtnDqZNRR"
      }
    },
    {
      "cell_type": "markdown",
      "source": [
        "#### Chart - 15 - Pair Plot"
      ],
      "metadata": {
        "id": "q29F0dvdveiT"
      }
    },
    {
      "cell_type": "code",
      "source": [
        "data.columns"
      ],
      "metadata": {
        "id": "L7VJVglbbuo4"
      },
      "execution_count": null,
      "outputs": []
    },
    {
      "cell_type": "code",
      "source": [
        "# Pair Plot visualization code\n",
        "# Chart - 8 visualization code\n",
        "columns_of_intrest = ['iyear', 'country_txt', 'region_txt', 'attacktype1_txt',\n",
        "       'targtype1_txt', 'gname', 'weaptype1_txt', 'nkill', 'nkillus',\n",
        "       'nkillter', 'nwound', 'nwoundus', 'nwoundte', 'property', 'ishostkid',\n",
        "       'INT_LOG', 'INT_IDEO', 'INT_MISC', 'INT_ANY']\n",
        "pairplot_data = data[columns_of_intrest]\n",
        "\n",
        "correlation_matrix = relevant_data.corr()\n",
        "\n",
        "plt.figure(figsize=(12, 8))\n",
        "sns.pairplot(pairplot_data, kind='scatter', diag_kind='kde')\n",
        "plt.suptitle('Pair Plot')\n",
        "plt.show()"
      ],
      "metadata": {
        "id": "o58-TEIhveiU"
      },
      "execution_count": null,
      "outputs": []
    },
    {
      "cell_type": "markdown",
      "source": [
        "##### 1. Why did you pick the specific chart?"
      ],
      "metadata": {
        "id": "EXh0U9oCveiU"
      }
    },
    {
      "cell_type": "markdown",
      "source": [
        "* Pair plot is used to show the relation for each variable in the dataset which plots individual plot for each and every variable using scatter plot\n",
        "\n",
        "\n"
      ],
      "metadata": {
        "id": "eMmPjTByveiU"
      }
    },
    {
      "cell_type": "markdown",
      "source": [
        "##### 2. What is/are the insight(s) found from the chart?"
      ],
      "metadata": {
        "id": "22aHeOlLveiV"
      }
    },
    {
      "cell_type": "markdown",
      "source": [
        "* scatter plot with each pair plot shows the ditribution of data with each variable"
      ],
      "metadata": {
        "id": "uPQ8RGwHveiV"
      }
    },
    {
      "cell_type": "markdown",
      "source": [
        "## **5. Solution to Business Objective**"
      ],
      "metadata": {
        "id": "JcMwzZxoAimU"
      }
    },
    {
      "cell_type": "markdown",
      "source": [
        "#### What do you suggest the client to achieve Business Objective ?\n",
        "Explain Briefly."
      ],
      "metadata": {
        "id": "8G2x9gOozGDZ"
      }
    },
    {
      "cell_type": "markdown",
      "source": [
        "* **Risk Assessment and Mitigation:**\n",
        "  - Geographic Risk Mapping: Utilize the insights on attack frequency by year, country, and region to map high-risk areas and enhance security measures in those locations.\n",
        "\n",
        "* **Operational Decision-Making:**\n",
        "  - Resource Allocation: Allocate resources and investments considering regions with the highest attack frequency or casualties, aiming for risk-aware operational planning.\n",
        "  - Supply Chain Optimization: Utilize data on attacks affecting supply chains to optimize routes or diversify suppliers, ensuring operational continuity.\n",
        "\n",
        "* **Security Measures:**\n",
        "  - Crisis Response Planning: Develop robust crisis management plans leveraging insights on attack types, casualties, and hostages to prepare for immediate and effective responses in emergencies.\n",
        "\n",
        "* **Stakeholder Engagement:**\n",
        "  - Community Engagement: Leverage information on most active terrorist groups to collaborate with local authorities or communities in affected areas, promoting safety measures or community-building initiatives.\n",
        "\n",
        "* **Brand Protection and Continuity:**\n",
        "  - Brand Safety Measures: Use insights on property damages to strengthen insurance coverage or crisis communication strategies, safeguarding brand reputation during crises.\n",
        "\n",
        "* **Long-term Strategies:**\n",
        "  - Long-term Planning: Incorporate historical attack trends into long-term business strategies to foster sustainable and resilient business operations, considering geopolitical risks.\n",
        "\n",
        "* **Innovation and Technology:**\n",
        "  - Innovative Solutions: Explore innovative technologies or predictive models based on attack types and targets for early detection or risk prediction.\n",
        "\n",
        "* **Compliance and Ethical Considerations:**\n",
        "  - Compliance Adherence: Ensure compliance with security regulations and ethical data handling practices, considering the sensitivity of terrorism-related data.\n",
        "\n",
        "* **Collaboration and Partnerships:**\n",
        "  - Collaborative Efforts: Collaborate with industry peers or authorities to collectively address terrorism-related risks and create industry-wide security standards.\n",
        "\n",
        "* **Continuous Analysis and Adaptation:**\n",
        "  - Continuous Monitoring: Regularly update risk assessments and security protocols based on evolving attack patterns or new insights derived from ongoing analyses.\n",
        "  \n",
        "***By utilizing the analyses conducted, the client can adopt a proactive approach toward risk management, operational strategies, stakeholder engagement, and innovation, fostering a resilient and secure business environment while ensuring ethical and responsible data usage.***"
      ],
      "metadata": {
        "id": "pASKb0qOza21"
      }
    },
    {
      "cell_type": "markdown",
      "source": [
        "# **Conclusion**"
      ],
      "metadata": {
        "id": "gCX9965dhzqZ"
      }
    },
    {
      "cell_type": "markdown",
      "source": [
        "**The above analysis provides a comprehensive understanding of various aspects of terrorist incidents over different years, regions, attack types, and the involvement of terrorist groups**\n",
        "\n",
        "# Here's a summarized conclusion based on above analysis\n",
        "\n",
        "***Trends and Patterns:***\n",
        "  * *Most Active Years:* Identified years with the highest and lowest numbers of attacks, offering insights into historical trends and variations in terrorist activities.\n",
        "\n",
        "  * *Geographical Impact:* Highlighted countries and regions most affected by terrorist incidents, aiding in geographic risk assessment and security prioritization.\n",
        "\n",
        "  * Attack Types and Impact: Explored the relationship between attack types and casualties, shedding light on the severity and nature of various attack methods.\n",
        "\n",
        "  * *Target Analysis:* Identified targets of terrorist activities, providing insights into the primary objectives of these attacks.\n",
        "\n",
        "  * *Terrorist Groups:* Revealed the most active terrorist groups, allowing for better understanding and monitoring of influential groups over time.\n",
        "\n",
        "\n",
        "***Impact and Consequences:***\n",
        "  * *Human Cost:* Explored the number of casualties (killed and wounded) caused by terrorist attacks, indicating the human toll and potential societal impacts.\n",
        "\n",
        "  * *Property Damage:* Analyzed property damages caused by attacks, highlighting economic and infrastructural consequences.\n",
        "Hostages Taken: Examined incidents involving hostages, emphasizing the threat to personal safety and security.\n",
        "\n",
        "***Strategic Implications:***\n",
        "  * *Risk Mitigation:* Insights can guide risk assessment strategies, aiding in security enhancement and resource allocation in high-risk regions or during vulnerable years.\n",
        "  * *Operational Planning:* Useful for supply chain optimization, crisis response planning, and long-term business strategies considering geopolitical risks.\n",
        "  * Collaboration and Engagement:* Encourages collaboration with communities, authorities, and industry peers to collectively address terrorism-related risks and enhance security measures.\n",
        "\n",
        "***The above analyses provide a foundation for informed decision-making, allowing for proactive measures to mitigate risks, optimize operations, and ensure the safety and security of both people and assets in the face of terrorist threats.***"
      ],
      "metadata": {
        "id": "Fjb1IsQkh3yE"
      }
    },
    {
      "cell_type": "markdown",
      "source": [
        "### ***Hurrah! You have successfully completed your EDA Capstone Project !!!***"
      ],
      "metadata": {
        "id": "gIfDvo9L0UH2"
      }
    }
  ]
}